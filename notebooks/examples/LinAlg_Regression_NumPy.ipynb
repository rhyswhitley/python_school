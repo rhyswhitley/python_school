{
 "cells": [
  {
   "cell_type": "markdown",
   "metadata": {},
   "source": [
    "# Simple linear algebra with NumPy"
   ]
  },
  {
   "cell_type": "code",
   "execution_count": 1,
   "metadata": {
    "collapsed": true
   },
   "outputs": [],
   "source": [
    "import numpy as np"
   ]
  },
  {
   "cell_type": "markdown",
   "metadata": {},
   "source": [
    "## Some simple practice data\n",
    "Replace with your own if you feel like it"
   ]
  },
  {
   "cell_type": "code",
   "execution_count": 98,
   "metadata": {
    "collapsed": false
   },
   "outputs": [],
   "source": [
    "y = np.array([1, 2, 3, 3, 4])\n",
    "x = np.array([6, 7, 8, 9, 7])"
   ]
  },
  {
   "cell_type": "markdown",
   "metadata": {},
   "source": [
    "## The dreaded algebra\n",
    "\\begin{equation}\n",
    "y = bX\n",
    "\\end{equation}\n",
    "\n",
    "To solve for $b$, we need to marginalise $X$, and to do that we need to make it a _square_, symmetric matrix. To make it square we multiply both sides of the equation by $X'$\n",
    "\n",
    "\\begin{equation}\n",
    "X'y = bX'X\n",
    "\\end{equation}\n",
    "\n",
    "We denote the square matrix as $(X'X)$ and this will have an inverse which we denote as $(X'X)^{-1}$. To marginalise out the square matrix, we need to multiply both sides of the equation by **this** inverse.\n",
    "\n",
    "\\begin{equation}\n",
    "(X'X)^{-1}X'y = b(X'X)^{-1}X'X\n",
    "\\end{equation}\n",
    "\n",
    "A square matrix multiplied by its inverse is equal to the identity matrix:\n",
    "\\begin{equation}\n",
    "I = (X'X)^{-1}X'X\n",
    "\\end{equation}\n",
    "\n",
    "and a matrix multiplied by the $I$ equals itself.\n",
    "\n",
    "\\begin{equation}\n",
    "(X'X)^{-1}X'y = bI\n",
    "\\end{equation}\n",
    "\n",
    "Consequently our unknown $b$ can be represented by:\n",
    "\n",
    "\\begin{equation}\n",
    "b = X'(X'X)^{-1}y\n",
    "\\end{equation}\n",
    "\n",
    "**Now let's implement the above using our NumPy library**\n",
    "\n",
    "Remember that $X$ is expressed as:\n",
    "\n",
    "\\begin{equation}\n",
    "X = 1 + \\sum_{i=1}^{N}x_{i}\n",
    "\\end{equation}"
   ]
  },
  {
   "cell_type": "code",
   "execution_count": 99,
   "metadata": {
    "collapsed": false
   },
   "outputs": [
    {
     "name": "stdout",
     "output_type": "stream",
     "text": [
      "[[ 1.  6.]\n",
      " [ 1.  7.]\n",
      " [ 1.  8.]\n",
      " [ 1.  9.]\n",
      " [ 1.  7.]]\n"
     ]
    }
   ],
   "source": [
    "ones = np.ones(x.shape[0])\n",
    "X_d = np.vstack((ones, x)).T\n",
    "print(X_d)"
   ]
  },
  {
   "cell_type": "code",
   "execution_count": 100,
   "metadata": {
    "collapsed": false
   },
   "outputs": [
    {
     "name": "stdout",
     "output_type": "stream",
     "text": [
      "[[   5.   37.]\n",
      " [  37.  279.]]\n"
     ]
    }
   ],
   "source": [
    "X_sq = np.dot(X_d.T, X_d)\n",
    "print(X_sq)"
   ]
  },
  {
   "cell_type": "code",
   "execution_count": 101,
   "metadata": {
    "collapsed": false
   },
   "outputs": [
    {
     "name": "stdout",
     "output_type": "stream",
     "text": [
      "[[ 10.73076923  -1.42307692]\n",
      " [ -1.42307692   0.19230769]]\n"
     ]
    }
   ],
   "source": [
    "X_inv = np.linalg.inv(X_sq)\n",
    "print(X_inv)"
   ]
  },
  {
   "cell_type": "code",
   "execution_count": 102,
   "metadata": {
    "collapsed": false
   },
   "outputs": [
    {
     "name": "stdout",
     "output_type": "stream",
     "text": [
      "[ 13.  99.]\n"
     ]
    }
   ],
   "source": [
    "Xy = np.dot(X_d.T, y)\n",
    "print(Xy)"
   ]
  },
  {
   "cell_type": "code",
   "execution_count": 105,
   "metadata": {
    "collapsed": false,
    "scrolled": true
   },
   "outputs": [
    {
     "name": "stdout",
     "output_type": "stream",
     "text": [
      "[-1.38461538  0.53846154]\n"
     ]
    }
   ],
   "source": [
    "b = np.dot(Xy, X_inv)\n",
    "print(b)"
   ]
  },
  {
   "cell_type": "code",
   "execution_count": 108,
   "metadata": {
    "collapsed": false
   },
   "outputs": [
    {
     "name": "stdout",
     "output_type": "stream",
     "text": [
      "Our linear solution is:\n",
      "\ty = -1.38 + 0.54x\n"
     ]
    }
   ],
   "source": [
    "print(\"Our linear solution is:\\n\\ty = {0:.2f} + {1:.2f}x\".format(*tuple(b)))"
   ]
  }
 ],
 "metadata": {
  "kernelspec": {
   "display_name": "Python 3",
   "language": "python",
   "name": "python3"
  },
  "language_info": {
   "codemirror_mode": {
    "name": "ipython",
    "version": 3
   },
   "file_extension": ".py",
   "mimetype": "text/x-python",
   "name": "python",
   "nbconvert_exporter": "python",
   "pygments_lexer": "ipython3",
   "version": "3.6.0"
  }
 },
 "nbformat": 4,
 "nbformat_minor": 2
}
