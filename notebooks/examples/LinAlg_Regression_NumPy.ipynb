{
 "cells": [
  {
   "cell_type": "markdown",
   "metadata": {},
   "source": [
    "# Simple linear algebra with NumPy"
   ]
  },
  {
   "cell_type": "code",
   "execution_count": 4,
   "metadata": {
    "ExecuteTime": {
     "end_time": "2017-06-08T08:40:21.453021Z",
     "start_time": "2017-06-08T08:40:21.435631Z"
    },
    "collapsed": true
   },
   "outputs": [],
   "source": [
    "import numpy as np\n",
    "import matplotlib.pyplot as plt\n",
    "\n",
    "%matplotlib inline"
   ]
  },
  {
   "cell_type": "markdown",
   "metadata": {},
   "source": [
    "## Some simple practice data\n",
    "Replace with your own if you feel like it"
   ]
  },
  {
   "cell_type": "code",
   "execution_count": 47,
   "metadata": {
    "ExecuteTime": {
     "end_time": "2017-06-08T09:45:00.199166Z",
     "start_time": "2017-06-08T09:44:59.319387Z"
    },
    "collapsed": false
   },
   "outputs": [
    {
     "data": {
      "image/png": "[encoded data removed]",
      "text/plain": [
       "<matplotlib.figure.Figure at 0x7f722e14f208>"
      ]
     },
     "metadata": {},
     "output_type": "display_data"
    }
   ],
   "source": [
    "y = np.array([1, 2, 3, 3, 4])\n",
    "x = np.array([6, 7, 8, 9, 7])\n",
    "\n",
    "x = np.arange(100)\n",
    "y = 0.1 + 0.5*x + np.random.normal(0, 4, (x.size))\n",
    "\n",
    "plt.figure(figsize=(5, 5))\n",
    "plt.plot(x, y, 'o', alpha=0.5, c=\"#008b8b\")\n",
    "plt.xlabel(\"X\", fontsize=14)\n",
    "plt.ylabel(\"Y\", fontsize=14)\n",
    "plt.tight_layout()\n",
    "plt.savefig(\"../../slides/html/img/Lesson_5/la_data.png\", dpi=360, transparent=True, bbox_inches=\"tight\")\n",
    "plt.show()"
   ]
  },
  {
   "cell_type": "markdown",
   "metadata": {},
   "source": [
    "## The dreaded algebra\n",
    "\\begin{equation}\n",
    "y = bX\n",
    "\\end{equation}\n",
    "\n",
    "To solve for $b$, we need to marginalise $X$, and to do that we need to make it a _square_, symmetric matrix. To make it square we multiply both sides of the equation by $X'$\n",
    "\n",
    "\\begin{equation}\n",
    "X'y = bX'X\n",
    "\\end{equation}\n",
    "\n",
    "We denote the square matrix as $(X'X)$ and this will have an inverse which we denote as $(X'X)^{-1}$. To marginalise out the square matrix, we need to multiply both sides of the equation by **this** inverse.\n",
    "\n",
    "\\begin{equation}\n",
    "(X'X)^{-1}X'y = b(X'X)^{-1}X'X\n",
    "\\end{equation}\n",
    "\n",
    "A square matrix multiplied by its inverse is equal to the identity matrix:\n",
    "\\begin{equation}\n",
    "I = (X'X)^{-1}X'X\n",
    "\\end{equation}\n",
    "\n",
    "and a matrix multiplied by the $I$ equals itself.\n",
    "\n",
    "\\begin{equation}\n",
    "(X'X)^{-1}X'y = bI\n",
    "\\end{equation}\n",
    "\n",
    "Consequently our unknown $b$ can be represented by:\n",
    "\n",
    "\\begin{equation}\n",
    "b = X'(X'X)^{-1}y\n",
    "\\end{equation}\n",
    "\n",
    "**Now let's implement the above using our NumPy library**\n",
    "\n",
    "Remember that $X$ is expressed as:\n",
    "\n",
    "\\begin{equation}\n",
    "X = 1 + \\sum_{i=1}^{N}x_{i}\n",
    "\\end{equation}"
   ]
  },
  {
   "cell_type": "code",
   "execution_count": 38,
   "metadata": {
    "ExecuteTime": {
     "end_time": "2017-06-08T09:26:51.184733Z",
     "start_time": "2017-06-08T09:26:51.176304Z"
    },
    "collapsed": false
   },
   "outputs": [
    {
     "name": "stdout",
     "output_type": "stream",
     "text": [
      "[[  1.   0.]\n",
      " [  1.   1.]\n",
      " [  1.   2.]\n",
      " [  1.   3.]\n",
      " [  1.   4.]\n",
      " [  1.   5.]\n",
      " [  1.   6.]\n",
      " [  1.   7.]\n",
      " [  1.   8.]\n",
      " [  1.   9.]\n",
      " [  1.  10.]\n",
      " [  1.  11.]\n",
      " [  1.  12.]\n",
      " [  1.  13.]\n",
      " [  1.  14.]\n",
      " [  1.  15.]\n",
      " [  1.  16.]\n",
      " [  1.  17.]\n",
      " [  1.  18.]\n",
      " [  1.  19.]\n",
      " [  1.  20.]\n",
      " [  1.  21.]\n",
      " [  1.  22.]\n",
      " [  1.  23.]\n",
      " [  1.  24.]\n",
      " [  1.  25.]\n",
      " [  1.  26.]\n",
      " [  1.  27.]\n",
      " [  1.  28.]\n",
      " [  1.  29.]\n",
      " [  1.  30.]\n",
      " [  1.  31.]\n",
      " [  1.  32.]\n",
      " [  1.  33.]\n",
      " [  1.  34.]\n",
      " [  1.  35.]\n",
      " [  1.  36.]\n",
      " [  1.  37.]\n",
      " [  1.  38.]\n",
      " [  1.  39.]\n",
      " [  1.  40.]\n",
      " [  1.  41.]\n",
      " [  1.  42.]\n",
      " [  1.  43.]\n",
      " [  1.  44.]\n",
      " [  1.  45.]\n",
      " [  1.  46.]\n",
      " [  1.  47.]\n",
      " [  1.  48.]\n",
      " [  1.  49.]\n",
      " [  1.  50.]\n",
      " [  1.  51.]\n",
      " [  1.  52.]\n",
      " [  1.  53.]\n",
      " [  1.  54.]\n",
      " [  1.  55.]\n",
      " [  1.  56.]\n",
      " [  1.  57.]\n",
      " [  1.  58.]\n",
      " [  1.  59.]\n",
      " [  1.  60.]\n",
      " [  1.  61.]\n",
      " [  1.  62.]\n",
      " [  1.  63.]\n",
      " [  1.  64.]\n",
      " [  1.  65.]\n",
      " [  1.  66.]\n",
      " [  1.  67.]\n",
      " [  1.  68.]\n",
      " [  1.  69.]\n",
      " [  1.  70.]\n",
      " [  1.  71.]\n",
      " [  1.  72.]\n",
      " [  1.  73.]\n",
      " [  1.  74.]\n",
      " [  1.  75.]\n",
      " [  1.  76.]\n",
      " [  1.  77.]\n",
      " [  1.  78.]\n",
      " [  1.  79.]\n",
      " [  1.  80.]\n",
      " [  1.  81.]\n",
      " [  1.  82.]\n",
      " [  1.  83.]\n",
      " [  1.  84.]\n",
      " [  1.  85.]\n",
      " [  1.  86.]\n",
      " [  1.  87.]\n",
      " [  1.  88.]\n",
      " [  1.  89.]\n",
      " [  1.  90.]\n",
      " [  1.  91.]\n",
      " [  1.  92.]\n",
      " [  1.  93.]\n",
      " [  1.  94.]\n",
      " [  1.  95.]\n",
      " [  1.  96.]\n",
      " [  1.  97.]\n",
      " [  1.  98.]\n",
      " [  1.  99.]]\n"
     ]
    }
   ],
   "source": [
    "ones = np.ones(x.size)\n",
    "X_d = np.stack((ones, x)).T\n",
    "print(X_d)"
   ]
  },
  {
   "cell_type": "code",
   "execution_count": 39,
   "metadata": {
    "ExecuteTime": {
     "end_time": "2017-06-08T09:26:57.504799Z",
     "start_time": "2017-06-08T09:26:57.501029Z"
    },
    "collapsed": false
   },
   "outputs": [
    {
     "name": "stdout",
     "output_type": "stream",
     "text": [
      "[[  1.00000000e+02   4.95000000e+03]\n",
      " [  4.95000000e+03   3.28350000e+05]]\n"
     ]
    }
   ],
   "source": [
    "X_sq = np.dot(X_d.T, X_d)\n",
    "print(X_sq)"
   ]
  },
  {
   "cell_type": "code",
   "execution_count": 33,
   "metadata": {
    "ExecuteTime": {
     "end_time": "2017-06-08T09:26:19.296088Z",
     "start_time": "2017-06-08T09:26:19.292603Z"
    },
    "collapsed": false
   },
   "outputs": [
    {
     "name": "stdout",
     "output_type": "stream",
     "text": [
      "[[  3.94059406e-02  -5.94059406e-04]\n",
      " [ -5.94059406e-04   1.20012001e-05]]\n"
     ]
    }
   ],
   "source": [
    "X_inv = np.linalg.inv(X_sq)\n",
    "print(X_inv)"
   ]
  },
  {
   "cell_type": "code",
   "execution_count": 35,
   "metadata": {
    "ExecuteTime": {
     "end_time": "2017-06-08T09:26:25.622175Z",
     "start_time": "2017-06-08T09:26:25.618476Z"
    },
    "collapsed": false
   },
   "outputs": [
    {
     "name": "stdout",
     "output_type": "stream",
     "text": [
      "[   2509.45773951  167396.25414056]\n"
     ]
    }
   ],
   "source": [
    "Xy = np.dot(X_d.T, y)\n",
    "print(Xy)"
   ]
  },
  {
   "cell_type": "code",
   "execution_count": 36,
   "metadata": {
    "ExecuteTime": {
     "end_time": "2017-06-08T09:26:26.850402Z",
     "start_time": "2017-06-08T09:26:26.846084Z"
    },
    "collapsed": false,
    "scrolled": true
   },
   "outputs": [
    {
     "name": "stdout",
     "output_type": "stream",
     "text": [
      "[-0.55577668  0.51818897]\n"
     ]
    }
   ],
   "source": [
    "b = np.dot(Xy, X_inv)\n",
    "print(b)"
   ]
  },
  {
   "cell_type": "code",
   "execution_count": 37,
   "metadata": {
    "ExecuteTime": {
     "end_time": "2017-06-08T09:26:27.400559Z",
     "start_time": "2017-06-08T09:26:27.394571Z"
    },
    "collapsed": false
   },
   "outputs": [
    {
     "name": "stdout",
     "output_type": "stream",
     "text": [
      "Our linear solution is:\n",
      "\ty = -0.56 + 0.52x\n"
     ]
    }
   ],
   "source": [
    "print(\"Our linear solution is:\\n\\ty = {0:.2f} + {1:.2f}x\".format(*tuple(b)))"
   ]
  },
  {
   "cell_type": "code",
   "execution_count": 42,
   "metadata": {
    "ExecuteTime": {
     "end_time": "2017-06-08T09:43:28.289844Z",
     "start_time": "2017-06-08T09:43:28.282140Z"
    },
    "collapsed": false
   },
   "outputs": [
    {
     "name": "stdout",
     "output_type": "stream",
     "text": [
      "[ -5.55776685e-01  -3.75877136e-02   4.80601258e-01   9.98790229e-01\n",
      "   1.51697920e+00   2.03516817e+00   2.55335714e+00   3.07154611e+00\n",
      "   3.58973509e+00   4.10792406e+00   4.62611303e+00   5.14430200e+00\n",
      "   5.66249097e+00   6.18067994e+00   6.69886891e+00   7.21705788e+00\n",
      "   7.73524686e+00   8.25343583e+00   8.77162480e+00   9.28981377e+00\n",
      "   9.80800274e+00   1.03261917e+01   1.08443807e+01   1.13625697e+01\n",
      "   1.18807586e+01   1.23989476e+01   1.29171366e+01   1.34353255e+01\n",
      "   1.39535145e+01   1.44717035e+01   1.49898925e+01   1.55080814e+01\n",
      "   1.60262704e+01   1.65444594e+01   1.70626483e+01   1.75808373e+01\n",
      "   1.80990263e+01   1.86172153e+01   1.91354042e+01   1.96535932e+01\n",
      "   2.01717822e+01   2.06899711e+01   2.12081601e+01   2.17263491e+01\n",
      "   2.22445381e+01   2.27627270e+01   2.32809160e+01   2.37991050e+01\n",
      "   2.43172939e+01   2.48354829e+01   2.53536719e+01   2.58718609e+01\n",
      "   2.63900498e+01   2.69082388e+01   2.74264278e+01   2.79446167e+01\n",
      "   2.84628057e+01   2.89809947e+01   2.94991837e+01   3.00173726e+01\n",
      "   3.05355616e+01   3.10537506e+01   3.15719395e+01   3.20901285e+01\n",
      "   3.26083175e+01   3.31265065e+01   3.36446954e+01   3.41628844e+01\n",
      "   3.46810734e+01   3.51992623e+01   3.57174513e+01   3.62356403e+01\n",
      "   3.67538292e+01   3.72720182e+01   3.77902072e+01   3.83083962e+01\n",
      "   3.88265851e+01   3.93447741e+01   3.98629631e+01   4.03811520e+01\n",
      "   4.08993410e+01   4.14175300e+01   4.19357190e+01   4.24539079e+01\n",
      "   4.29720969e+01   4.34902859e+01   4.40084748e+01   4.45266638e+01\n",
      "   4.50448528e+01   4.55630418e+01   4.60812307e+01   4.65994197e+01\n",
      "   4.71176087e+01   4.76357976e+01   4.81539866e+01   4.86721756e+01\n",
      "   4.91903646e+01   4.97085535e+01   5.02267425e+01   5.07449315e+01]\n"
     ]
    }
   ],
   "source": [
    "def lin_mod(x, a, b):\n",
    "    return a + b*x\n",
    "\n",
    "model = lin_mod(x, *b)\n",
    "print(model)"
   ]
  },
  {
   "cell_type": "code",
   "execution_count": 51,
   "metadata": {
    "ExecuteTime": {
     "end_time": "2017-06-08T09:47:38.777298Z",
     "start_time": "2017-06-08T09:47:37.870563Z"
    },
    "collapsed": false
   },
   "outputs": [
    {
     "data": {
      "image/png": "[encoded data removed]",
      "text/plain": [
       "<matplotlib.figure.Figure at 0x7f722de65358>"
      ]
     },
     "metadata": {},
     "output_type": "display_data"
    }
   ],
   "source": [
    "plt.figure(figsize=(5, 5))\n",
    "plt.plot(x, y, 'o', alpha=0.5, c=\"#008b8b\", label=\"data\")\n",
    "plt.plot(x, model, '-', lw=4, c='darkorange', label=\"model\")\n",
    "plt.xlabel(\"X\", fontsize=14)\n",
    "plt.ylabel(\"Y\", fontsize=14)\n",
    "plt.tight_layout()\n",
    "plt.legend(loc=\"upper left\")\n",
    "plt.savefig(\"../../slides/html/img/Lesson_5/la_model.png\", dpi=360, transparent=True, bbox_inches=\"tight\")\n",
    "plt.show()"
   ]
  },
  {
   "cell_type": "code",
   "execution_count": null,
   "metadata": {
    "collapsed": true
   },
   "outputs": [],
   "source": []
  }
 ],
 "metadata": {
  "kernelspec": {
   "display_name": "Python 3",
   "language": "python",
   "name": "python3"
  },
  "language_info": {
   "codemirror_mode": {
    "name": "ipython",
    "version": 3
   },
   "file_extension": ".py",
   "mimetype": "text/x-python",
   "name": "python",
   "nbconvert_exporter": "python",
   "pygments_lexer": "ipython3",
   "version": "3.6.0"
  }
 },
 "nbformat": 4,
 "nbformat_minor": 2
}
