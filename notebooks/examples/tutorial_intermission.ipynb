{
 "cells": [
  {
   "cell_type": "markdown",
   "metadata": {},
   "source": [
    "<div style=\"color: white; background-color: #2f4f4f; padding: 1px\">\n",
    "<h1 align=\"center\" style=\"font-size: 30pt\">Python School</h1>\n",
    "<h2 align=\"center\" style=\"color: white\">May 25 2017</h2>\n",
    "<h2 align=\"center\" style=\"line-height: 0em; color: white\">Tutorial breakout session</h2>\n",
    "<br />\n",
    "</div>\n",
    "\n",
    "### Problem:\n",
    "Create a function to test whether a passed _string_ variable is a palindrome. \n",
    "### Solutions:"
   ]
  },
  {
   "cell_type": "code",
   "execution_count": 1,
   "metadata": {
    "ExecuteTime": {
     "end_time": "2017-05-26T15:12:11.680941Z",
     "start_time": "2017-05-26T15:12:11.676349Z"
    },
    "collapsed": true
   },
   "outputs": [],
   "source": [
    "test_name = \"Hannah\""
   ]
  },
  {
   "cell_type": "markdown",
   "metadata": {},
   "source": [
    "Standard solution using iteration (for loop)"
   ]
  },
  {
   "cell_type": "code",
   "execution_count": 2,
   "metadata": {
    "ExecuteTime": {
     "end_time": "2017-05-26T15:12:12.371277Z",
     "start_time": "2017-05-26T15:12:12.361737Z"
    },
    "collapsed": true
   },
   "outputs": [],
   "source": [
    "def palindrome(name_in):\n",
    "    \"\"\"Test whether a string is a palindrome\"\"\"\n",
    "    \n",
    "    name = name_in.lower()\n",
    "    \n",
    "    name_len = len(name)//2\n",
    "    \n",
    "    for i in range(name_len):\n",
    "        if name[i] != name[-(i+1)]:\n",
    "            return False\n",
    "    \n",
    "    return True"
   ]
  },
  {
   "cell_type": "code",
   "execution_count": 3,
   "metadata": {
    "ExecuteTime": {
     "end_time": "2017-05-26T15:12:12.916988Z",
     "start_time": "2017-05-26T15:12:12.898650Z"
    },
    "collapsed": false
   },
   "outputs": [
    {
     "data": {
      "text/plain": [
       "True"
      ]
     },
     "execution_count": 3,
     "metadata": {},
     "output_type": "execute_result"
    }
   ],
   "source": [
    "palindrome(test_name)"
   ]
  },
  {
   "cell_type": "markdown",
   "metadata": {},
   "source": [
    "Alternative solution using recursion - this will only work for strings of limited length with default settings. To increase the recursion depth you will need to increase the stack size."
   ]
  },
  {
   "cell_type": "code",
   "execution_count": 4,
   "metadata": {
    "ExecuteTime": {
     "end_time": "2017-05-26T15:12:13.640445Z",
     "start_time": "2017-05-26T15:12:13.635680Z"
    },
    "collapsed": true
   },
   "outputs": [],
   "source": [
    "def palindrome_r(name_in):\n",
    "    \n",
    "    name = name_in.lower()\n",
    "    \n",
    "    if len(name) > 1:\n",
    "        if name[0] == name[-1]:\n",
    "            return palindrome(name[1:-1])\n",
    "        else:\n",
    "            return False \n",
    "    else:\n",
    "        return True"
   ]
  },
  {
   "cell_type": "code",
   "execution_count": 5,
   "metadata": {
    "ExecuteTime": {
     "end_time": "2017-05-26T15:12:14.063362Z",
     "start_time": "2017-05-26T15:12:14.059359Z"
    },
    "collapsed": false
   },
   "outputs": [
    {
     "data": {
      "text/plain": [
       "True"
      ]
     },
     "execution_count": 5,
     "metadata": {},
     "output_type": "execute_result"
    }
   ],
   "source": [
    "palindrome_r(test_name)"
   ]
  },
  {
   "cell_type": "markdown",
   "metadata": {},
   "source": [
    "<h1 align=\"center\">\n",
    "<font face=\"Times\">\n",
    "<i>That's all folks!</i>\n",
    "</font>\n",
    "</h1>"
   ]
  }
 ],
 "metadata": {
  "kernelspec": {
   "display_name": "Python 3",
   "language": "python",
   "name": "python3"
  },
  "language_info": {
   "codemirror_mode": {
    "name": "ipython",
    "version": 3
   },
   "file_extension": ".py",
   "mimetype": "text/x-python",
   "name": "python",
   "nbconvert_exporter": "python",
   "pygments_lexer": "ipython3",
   "version": "3.6.0"
  }
 },
 "nbformat": 4,
 "nbformat_minor": 2
}
