{
 "cells": [
  {
   "cell_type": "markdown",
   "metadata": {},
   "source": [
    "## Customer class example"
   ]
  },
  {
   "cell_type": "code",
   "execution_count": 11,
   "metadata": {
    "collapsed": true
   },
   "outputs": [],
   "source": [
    "class Customer:\n",
    "    \"\"\"\n",
    "    Data structure to describe a customer for the business\n",
    "    \"\"\"\n",
    "    def __init__(self, name, deposit):\n",
    "        # customer attributes\n",
    "        self.name = name\n",
    "        # if you want to hide it\n",
    "        #self.__name = name\n",
    "        self.savings = deposit\n",
    "\n",
    "    def customer_detail(self):\n",
    "        \"\"\"\n",
    "        Print current financial position of customer\n",
    "        \"\"\"\n",
    "        message = \"Customer: %s has $%i\" % (self.name, self.savings)\n",
    "        print(message)"
   ]
  },
  {
   "cell_type": "code",
   "execution_count": 12,
   "metadata": {
    "collapsed": false
   },
   "outputs": [],
   "source": [
    "jerry = Customer(\"Jerry\", 10000)"
   ]
  },
  {
   "cell_type": "code",
   "execution_count": 13,
   "metadata": {
    "collapsed": false
   },
   "outputs": [
    {
     "name": "stdout",
     "output_type": "stream",
     "text": [
      "Customer: Jerry has $10000\n"
     ]
    }
   ],
   "source": [
    "jerry.customer_detail()"
   ]
  },
  {
   "cell_type": "code",
   "execution_count": 14,
   "metadata": {
    "collapsed": false
   },
   "outputs": [
    {
     "data": {
      "text/plain": [
       "10000"
      ]
     },
     "execution_count": 14,
     "metadata": {},
     "output_type": "execute_result"
    }
   ],
   "source": [
    "jerry.savings"
   ]
  },
  {
   "cell_type": "code",
   "execution_count": 15,
   "metadata": {
    "collapsed": false
   },
   "outputs": [
    {
     "data": {
      "text/plain": [
       "'Jerry'"
      ]
     },
     "execution_count": 15,
     "metadata": {},
     "output_type": "execute_result"
    }
   ],
   "source": [
    "jerry.name"
   ]
  },
  {
   "cell_type": "markdown",
   "metadata": {},
   "source": [
    "## A more detailed customer class"
   ]
  },
  {
   "cell_type": "code",
   "execution_count": 76,
   "metadata": {
    "collapsed": false
   },
   "outputs": [],
   "source": [
    "class CustomerX:\n",
    "    \"\"\"\n",
    "    Data structure to describe a customer for the business\n",
    "    \"\"\"\n",
    "    __customer_count = 0\n",
    "    \n",
    "    def __init__(self, name, deposit):\n",
    "        # customer attributes\n",
    "        self.name = name\n",
    "        # if you want to hide it\n",
    "        #self.__name = name\n",
    "        self.savings = deposit\n",
    "\n",
    "        CustomerX.__customer_count += 1\n",
    "        self.accnum = CustomerX.__customer_count\n",
    "\n",
    "    def customer_detail(self):\n",
    "        \"\"\"\n",
    "        Print current financial position of customer\n",
    "        \"\"\"\n",
    "        message = \"Customer: %s [AC: %s] has $%i\" % (self.name, self.accnum, self.savings)\n",
    "        print(message)\n",
    "        \n",
    "    def compound_interest(self, rate, freq, term):\n",
    "        \"\"\"\n",
    "        calculates compound interest\n",
    "        \"\"\"\n",
    "        P_new = self.savings*(1 + rate/freq)**(freq*term)\n",
    "\n",
    "        return P_new    \n",
    "    \n",
    "    def compound_interest_plus(self, rate, freq, term):\n",
    "        \"\"\"\n",
    "        calculates compound interest\n",
    "        \"\"\"\n",
    "        self.savings = self.savings*(1 + rate/freq)**(freq*term)\n",
    "\n",
    "        return self    "
   ]
  },
  {
   "cell_type": "code",
   "execution_count": 84,
   "metadata": {
    "collapsed": false
   },
   "outputs": [],
   "source": [
    "igor = CustomerX(\"Igor\", 5000)"
   ]
  },
  {
   "cell_type": "code",
   "execution_count": 85,
   "metadata": {
    "collapsed": false
   },
   "outputs": [
    {
     "name": "stdout",
     "output_type": "stream",
     "text": [
      "Customer: Igor [AC: 3] has $5000\n"
     ]
    }
   ],
   "source": [
    "igor.customer_detail()"
   ]
  },
  {
   "cell_type": "code",
   "execution_count": 79,
   "metadata": {
    "collapsed": false
   },
   "outputs": [
    {
     "data": {
      "text/plain": [
       "5254.726684570311"
      ]
     },
     "execution_count": 79,
     "metadata": {},
     "output_type": "execute_result"
    }
   ],
   "source": [
    "igor.compound_interest(0.05, 4, 1)"
   ]
  },
  {
   "cell_type": "code",
   "execution_count": 88,
   "metadata": {
    "collapsed": false
   },
   "outputs": [
    {
     "name": "stdout",
     "output_type": "stream",
     "text": [
      "Customer: Igor [AC: 3] has $5803\n"
     ]
    }
   ],
   "source": [
    "igor.compound_interest_plus(0.05, 4, 1)\n",
    "igor.customer_detail()"
   ]
  },
  {
   "cell_type": "code",
   "execution_count": null,
   "metadata": {
    "collapsed": true
   },
   "outputs": [],
   "source": []
  }
 ],
 "metadata": {
  "kernelspec": {
   "display_name": "Python 3",
   "language": "python",
   "name": "python3"
  },
  "language_info": {
   "codemirror_mode": {
    "name": "ipython",
    "version": 3
   },
   "file_extension": ".py",
   "mimetype": "text/x-python",
   "name": "python",
   "nbconvert_exporter": "python",
   "pygments_lexer": "ipython3",
   "version": "3.6.0"
  }
 },
 "nbformat": 4,
 "nbformat_minor": 2
}
