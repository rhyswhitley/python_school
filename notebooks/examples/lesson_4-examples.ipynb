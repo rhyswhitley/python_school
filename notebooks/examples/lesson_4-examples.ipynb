{
 "cells": [
  {
   "cell_type": "markdown",
   "metadata": {},
   "source": [
    "## Customer class example"
   ]
  },
  {
   "cell_type": "code",
   "execution_count": 1,
   "metadata": {
    "collapsed": true
   },
   "outputs": [],
   "source": [
    "class Customer:\n",
    "    \"\"\"\n",
    "    Data structure to describe a customer for the business\n",
    "    \"\"\"\n",
    "    def __init__(self, name, deposit):\n",
    "        # customer attributes\n",
    "        self.name = name\n",
    "        # if you want to hide it\n",
    "        #self.__name = name\n",
    "        self.savings = deposit\n",
    "\n",
    "    def customer_detail(self):\n",
    "        \"\"\"\n",
    "        Print current financial position of customer\n",
    "        \"\"\"\n",
    "        message = \"Customer: %s has $%i\" % (self.name, self.savings)\n",
    "        print(message)"
   ]
  },
  {
   "cell_type": "code",
   "execution_count": 3,
   "metadata": {
    "collapsed": true
   },
   "outputs": [],
   "source": [
    "jerry = Customer(\"Jerry\", 10000)"
   ]
  },
  {
   "cell_type": "code",
   "execution_count": 4,
   "metadata": {
    "collapsed": false
   },
   "outputs": [
    {
     "data": {
      "text/plain": [
       "<__main__.Customer at 0x7f605c04e550>"
      ]
     },
     "execution_count": 4,
     "metadata": {},
     "output_type": "execute_result"
    }
   ],
   "source": [
    "jerry"
   ]
  },
  {
   "cell_type": "code",
   "execution_count": 13,
   "metadata": {
    "collapsed": false
   },
   "outputs": [
    {
     "name": "stdout",
     "output_type": "stream",
     "text": [
      "Customer: Jerry has $10000\n"
     ]
    }
   ],
   "source": [
    "jerry.customer_detail()"
   ]
  },
  {
   "cell_type": "code",
   "execution_count": 14,
   "metadata": {
    "collapsed": false
   },
   "outputs": [
    {
     "data": {
      "text/plain": [
       "10000"
      ]
     },
     "execution_count": 14,
     "metadata": {},
     "output_type": "execute_result"
    }
   ],
   "source": [
    "jerry.savings"
   ]
  },
  {
   "cell_type": "code",
   "execution_count": 15,
   "metadata": {
    "collapsed": false
   },
   "outputs": [
    {
     "data": {
      "text/plain": [
       "'Jerry'"
      ]
     },
     "execution_count": 15,
     "metadata": {},
     "output_type": "execute_result"
    }
   ],
   "source": [
    "jerry.name"
   ]
  },
  {
   "cell_type": "code",
   "execution_count": 5,
   "metadata": {
    "collapsed": false
   },
   "outputs": [
    {
     "data": {
      "text/plain": [
       "<bound method Customer.customer_detail of <__main__.Customer object at 0x7f605c04e550>>"
      ]
     },
     "execution_count": 5,
     "metadata": {},
     "output_type": "execute_result"
    }
   ],
   "source": [
    "jerry.customer_detail"
   ]
  },
  {
   "cell_type": "markdown",
   "metadata": {},
   "source": [
    "## A more detailed customer class"
   ]
  },
  {
   "cell_type": "code",
   "execution_count": 140,
   "metadata": {
    "collapsed": false
   },
   "outputs": [],
   "source": [
    "class Account:\n",
    "    \"\"\"\n",
    "    Data structure to describe a customer for the business\n",
    "    \"\"\"\n",
    "    __customer_count = 0\n",
    "    \n",
    "    def __init__(self, name, deposit):\n",
    "        # customer attributes\n",
    "        self.__name = name\n",
    "        # if you want to hide it\n",
    "        #self.__name = name\n",
    "        self.__savings = deposit\n",
    "\n",
    "        Account.__customer_count += 1\n",
    "        self.__accnum = Account.__customer_count\n",
    "        \n",
    "    def __add__(self, other):\n",
    "        self.joint_name = \"%s and %s\" % (self.__name, other.__name)\n",
    "        self.joint_savings = self.__savings + other.__savings\n",
    "        return Account(self.joint_name, self.joint_savings)\n",
    "\n",
    "    def customer_detail(self):\n",
    "        \"\"\"\n",
    "        Print current financial position of customer\n",
    "        \"\"\"\n",
    "        message = \"Customer: %s [AC: %s] has $%i\" % (self.__name, self.__accnum, self.__savings)\n",
    "        print(message)\n",
    "\n",
    "    def compound_interest(self, rate, freq, term):\n",
    "        \"\"\"\n",
    "        calculates compound interest\n",
    "        \"\"\"\n",
    "        self.__savings = self.__savings*(1 + rate/freq)**(freq*term)\n",
    "\n",
    "        return self\n",
    "    \n",
    "    def deposit(self, amount):\n",
    "        \"\"\"\n",
    "        calculates compound interest\n",
    "        \"\"\"\n",
    "        self.__savings += amount\n",
    "\n",
    "        return self\n",
    "    \n",
    "    def withdraw(self, amount):\n",
    "        \"\"\"\n",
    "        calculates compound interest\n",
    "        \"\"\"\n",
    "        self.__savings -= amount\n",
    "\n",
    "        return self\n",
    "    \n",
    "    def get_savings(self):\n",
    "        return self.__savings"
   ]
  },
  {
   "cell_type": "code",
   "execution_count": 141,
   "metadata": {
    "collapsed": false,
    "scrolled": true
   },
   "outputs": [
    {
     "name": "stdout",
     "output_type": "stream",
     "text": [
      "Customer: Igor [AC: 1] has $5000\n"
     ]
    }
   ],
   "source": [
    "igor = Account(\"Igor\", 5000)\n",
    "igor.customer_detail()"
   ]
  },
  {
   "cell_type": "code",
   "execution_count": 142,
   "metadata": {
    "collapsed": false
   },
   "outputs": [
    {
     "name": "stdout",
     "output_type": "stream",
     "text": [
      "Customer: Igor [AC: 1] has $4854\n"
     ]
    }
   ],
   "source": [
    "igor.compound_interest(0.05, 4, 1).withdraw(500).deposit(100)\n",
    "igor.customer_detail()"
   ]
  },
  {
   "cell_type": "code",
   "execution_count": 143,
   "metadata": {
    "collapsed": false
   },
   "outputs": [
    {
     "data": {
      "text/plain": [
       "4854.726684570311"
      ]
     },
     "execution_count": 143,
     "metadata": {},
     "output_type": "execute_result"
    }
   ],
   "source": [
    "igor.get_savings()"
   ]
  },
  {
   "cell_type": "code",
   "execution_count": 144,
   "metadata": {
    "collapsed": false
   },
   "outputs": [
    {
     "name": "stdout",
     "output_type": "stream",
     "text": [
      "Customer: Fred [AC: 2] has $50000\n"
     ]
    }
   ],
   "source": [
    "fred = Account(\"Fred\", 50000)\n",
    "fred.customer_detail()"
   ]
  },
  {
   "cell_type": "code",
   "execution_count": 146,
   "metadata": {
    "collapsed": false
   },
   "outputs": [
    {
     "name": "stdout",
     "output_type": "stream",
     "text": [
      "Customer: Igor and Fred [AC: 3] has $54854\n"
     ]
    }
   ],
   "source": [
    "joint_account = igor + fred\n",
    "joint_account.customer_detail()"
   ]
  },
  {
   "cell_type": "code",
   "execution_count": null,
   "metadata": {
    "collapsed": true
   },
   "outputs": [],
   "source": []
  }
 ],
 "metadata": {
  "kernelspec": {
   "display_name": "Python 3",
   "language": "python",
   "name": "python3"
  },
  "language_info": {
   "codemirror_mode": {
    "name": "ipython",
    "version": 3
   },
   "file_extension": ".py",
   "mimetype": "text/x-python",
   "name": "python",
   "nbconvert_exporter": "python",
   "pygments_lexer": "ipython3",
   "version": "3.6.0"
  }
 },
 "nbformat": 4,
 "nbformat_minor": 2
}
