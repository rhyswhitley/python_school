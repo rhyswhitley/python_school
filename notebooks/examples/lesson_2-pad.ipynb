{
 "cells": [
  {
   "cell_type": "markdown",
   "metadata": {
    "collapsed": true,
    "slideshow": {
     "slide_type": "slide"
    }
   },
   "source": [
    "# Header 1\n",
    "## Header 2\n",
    "### Header 3\n"
   ]
  },
  {
   "cell_type": "markdown",
   "metadata": {
    "ExecuteTime": {
     "end_time": "2017-03-30T10:19:58.476398",
     "start_time": "2017-03-30T10:19:58.470398"
    },
    "slideshow": {
     "slide_type": "slide"
    }
   },
   "source": [
    "*italics*\n",
    "_italics_\n",
    "\n",
    "**bold**\n",
    "__bold__"
   ]
  },
  {
   "cell_type": "raw",
   "metadata": {
    "slideshow": {
     "slide_type": "slide"
    }
   },
   "source": [
    "<img src=http://ichef.bbci.co.uk/wwfeatures/wm/live/1280_720/images/live/p0/2q/px/p02qpxrm.jpg width=\"50%\"/>\n",
    "\n",
    "![shark](http://ichef.bbci.co.uk/wwfeatures/wm/live/1280_720/images/live/p0/2q/px/p02qpxrm.jpg)"
   ]
  },
  {
   "cell_type": "markdown",
   "metadata": {
    "slideshow": {
     "slide_type": "slide"
    }
   },
   "source": [
    "<img src=http://ichef.bbci.co.uk/wwfeatures/wm/live/1280_720/images/live/p0/2q/px/p02qpxrm.jpg width=\"50%\"/>\n",
    "\n",
    "![shark](http://ichef.bbci.co.uk/wwfeatures/wm/live/1280_720/images/live/p0/2q/px/p02qpxrm.jpg)"
   ]
  },
  {
   "cell_type": "raw",
   "metadata": {
    "collapsed": true,
    "slideshow": {
     "slide_type": "slide"
    }
   },
   "source": [
    "jupyter nbconvert --to-slides"
   ]
  },
  {
   "cell_type": "code",
   "execution_count": null,
   "metadata": {
    "collapsed": true
   },
   "outputs": [],
   "source": [
    "for i in range(10):\n",
    "    \n",
    "    i = i + 1\n",
    "    \n",
    "    i += 1"
   ]
  }
 ],
 "metadata": {
  "anaconda-cloud": {},
  "celltoolbar": "Slideshow",
  "kernelspec": {
   "display_name": "Python [Root]",
   "language": "python",
   "name": "Python [Root]"
  },
  "language_info": {
   "codemirror_mode": {
    "name": "ipython",
    "version": 3
   },
   "file_extension": ".py",
   "mimetype": "text/x-python",
   "name": "python",
   "nbconvert_exporter": "python",
   "pygments_lexer": "ipython3",
   "version": "3.5.2"
  }
 },
 "nbformat": 4,
 "nbformat_minor": 0
}
