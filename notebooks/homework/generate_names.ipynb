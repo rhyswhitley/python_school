{
 "cells": [
  {
   "cell_type": "markdown",
   "metadata": {},
   "source": [
    "# Creating names dataset"
   ]
  },
  {
   "cell_type": "code",
   "execution_count": 214,
   "metadata": {
    "collapsed": false
   },
   "outputs": [],
   "source": [
    "from bs4 import BeautifulSoup\n",
    "import requests\n",
    "import random\n",
    "import re"
   ]
  },
  {
   "cell_type": "markdown",
   "metadata": {},
   "source": [
    "## Get a list of first names; both boys and girls"
   ]
  },
  {
   "cell_type": "code",
   "execution_count": 225,
   "metadata": {
    "collapsed": false,
    "scrolled": true
   },
   "outputs": [],
   "source": [
    "firstname_url = \"https://www.behindthename.com/top/lists/united-states/2015\"\n",
    "r1 = requests.get(firstname_url)"
   ]
  },
  {
   "cell_type": "code",
   "execution_count": 226,
   "metadata": {
    "collapsed": false
   },
   "outputs": [],
   "source": [
    "soup = BeautifulSoup(r1.text, \"lxml\")\n",
    "names100_html = soup.select(\"textarea\")[0].string.split(\"\\n\")\n",
    "names = [x.split(\":\")[0] for x in names100_html if not re.search(\"^$|\\s+\", x)]"
   ]
  },
  {
   "cell_type": "raw",
   "metadata": {},
   "source": [
    "test = soup.select(\"a\")\n",
    "test2 = [x.string for x in test if x.string is not None]\n",
    "len(test2)"
   ]
  },
  {
   "cell_type": "markdown",
   "metadata": {},
   "source": [
    "## Get a list of surnames"
   ]
  },
  {
   "cell_type": "code",
   "execution_count": 211,
   "metadata": {
    "collapsed": true
   },
   "outputs": [],
   "source": [
    "surname_url = \"http://surname.sofeminine.co.uk/w/surnames/most-common-surnames-in-great-britain.html\"\n",
    "r2 = requests.get(surname_url)\n",
    "soup_surname = BeautifulSoup(r2.text, \"lxml\")"
   ]
  },
  {
   "cell_type": "code",
   "execution_count": 212,
   "metadata": {
    "collapsed": false,
    "scrolled": true
   },
   "outputs": [],
   "source": [
    "surnames = [row.string for row in soup_surname.select(\"table tr td a\") \\\n",
    "     if row.has_attr('class') and row.attrs['class'][0] == 'nom']"
   ]
  },
  {
   "cell_type": "markdown",
   "metadata": {},
   "source": [
    "## Randomly generate pairs of names"
   ]
  },
  {
   "cell_type": "code",
   "execution_count": 236,
   "metadata": {
    "collapsed": false,
    "scrolled": false
   },
   "outputs": [],
   "source": [
    "n_sample = 50000\n",
    "\n",
    "with open(\"names.txt\", \"w\") as file:\n",
    "    for i in range(n_sample):   \n",
    "        id1 = random.randint(0, len(names)-1)\n",
    "        id2 = random.randint(0, len(surnames)-1)\n",
    "        full_name = \"%s %s\\n\" % (names[id1], surnames[id2])\n",
    "        file.write(full_name)"
   ]
  },
  {
   "cell_type": "code",
   "execution_count": null,
   "metadata": {
    "collapsed": true
   },
   "outputs": [],
   "source": []
  }
 ],
 "metadata": {
  "kernelspec": {
   "display_name": "Python 3",
   "language": "python",
   "name": "python3"
  },
  "language_info": {
   "codemirror_mode": {
    "name": "ipython",
    "version": 3
   },
   "file_extension": ".py",
   "mimetype": "text/x-python",
   "name": "python",
   "nbconvert_exporter": "python",
   "pygments_lexer": "ipython3",
   "version": "3.6.0"
  }
 },
 "nbformat": 4,
 "nbformat_minor": 2
}
