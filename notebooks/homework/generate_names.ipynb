{
 "cells": [
  {
   "cell_type": "markdown",
   "metadata": {},
   "source": [
    "# Creating names dataset"
   ]
  },
  {
   "cell_type": "code",
   "execution_count": 1,
   "metadata": {
    "collapsed": false
   },
   "outputs": [],
   "source": [
    "from scipy.stats import expon, norm\n",
    "from bs4 import BeautifulSoup\n",
    "import requests\n",
    "import random\n",
    "import re"
   ]
  },
  {
   "cell_type": "markdown",
   "metadata": {},
   "source": [
    "## Get a list of first names; both boys and girls"
   ]
  },
  {
   "cell_type": "code",
   "execution_count": 2,
   "metadata": {
    "collapsed": false,
    "scrolled": true
   },
   "outputs": [],
   "source": [
    "firstname_url = \"https://www.behindthename.com/top/lists/united-states/2015\"\n",
    "r1 = requests.get(firstname_url)"
   ]
  },
  {
   "cell_type": "code",
   "execution_count": 3,
   "metadata": {
    "collapsed": false
   },
   "outputs": [],
   "source": [
    "soup = BeautifulSoup(r1.text, \"lxml\")\n",
    "names100_html = soup.select(\"textarea\")[0].string.split(\"\\n\")\n",
    "names = [x.split(\":\")[0] for x in names100_html if not re.search(\"^$|\\s+\", x)]"
   ]
  },
  {
   "cell_type": "raw",
   "metadata": {},
   "source": [
    "test = soup.select(\"a\")\n",
    "test2 = [x.string for x in test if x.string is not None]\n",
    "len(test2)"
   ]
  },
  {
   "cell_type": "markdown",
   "metadata": {},
   "source": [
    "## Get a list of surnames"
   ]
  },
  {
   "cell_type": "code",
   "execution_count": 4,
   "metadata": {
    "collapsed": true
   },
   "outputs": [],
   "source": [
    "surname_url = \"http://surname.sofeminine.co.uk/w/surnames/most-common-surnames-in-great-britain.html\"\n",
    "r2 = requests.get(surname_url)\n",
    "soup_surname = BeautifulSoup(r2.text, \"lxml\")"
   ]
  },
  {
   "cell_type": "code",
   "execution_count": 8,
   "metadata": {
    "collapsed": false,
    "scrolled": true
   },
   "outputs": [],
   "source": [
    "surnames = [row.string for row in soup_surname.select(\"table tr td a\") \\\n",
    "     if row.has_attr('class') and row.attrs['class'][0] == 'nom']\n",
    "\n",
    "surnames2 = \\\n",
    "['Khan', \\\n",
    " 'Tokugawa', \\\n",
    " 'Lawrence', \\\n",
    " 'Zheng', \\\n",
    " 'Jenkins', \\\n",
    " 'Tepes', \\\n",
    " 'Hohenzollern', \\\n",
    " 'Spencer', \\\n",
    " 'Poole', \\\n",
    " 'Windsor', \\\n",
    " 'Lawson', \\\n",
    " 'Reichstein', \\\n",
    " 'Romanov', \\\n",
    " 'vonCarstein', \\\n",
    " 'Sangama', \\\n",
    " 'Qin', \\\n",
    " 'Fletcher', \\\n",
    " 'Hussain', \\\n",
    " 'Rothschild', \\\n",
    " 'Marsh', \\\n",
    " 'Shimazu']\n",
    "\n",
    "surnames3 = \\\n",
    "['Yoon', \\\n",
    " 'Pedder', \\\n",
    " 'Whitley', \\\n",
    " 'DiPilla', \\\n",
    " 'West', \\\n",
    " 'Dascalu', \\\n",
    " 'Chen', \\\n",
    " 'Jung', \\\n",
    " 'Khan', \\\n",
    " 'Pillalamarri', \\\n",
    " 'Treloar', \\\n",
    " 'Nedelkoski', \\\n",
    " 'Lubarsky', \\\n",
    " 'Lee']\n",
    "\n",
    "country = \\\n",
    "['China', \\\n",
    " 'Japan', \\\n",
    " 'USA', \\\n",
    " 'Australia', \\\n",
    " 'UK', \\\n",
    " 'India', \\\n",
    " 'SaudiArabia', \\\n",
    " 'Germany', \\\n",
    " 'Switzerland', \\\n",
    " 'Russia',\n",
    "]"
   ]
  },
  {
   "cell_type": "code",
   "execution_count": null,
   "metadata": {
    "collapsed": true
   },
   "outputs": [],
   "source": [
    "ex_rates = {'USA': 1., 'Australia': 1/1.33, 'India': 1/64.76, 'Japan':1/111.07, \\\n",
    "            'UK':1/0.77, 'Switzerland':1/0.97, 'SaudiArabia':1/3.75, 'China':1/6.89, \\\n",
    "           'Germany':1/0.88, 'Russia':1/56.58}"
   ]
  },
  {
   "cell_type": "markdown",
   "metadata": {},
   "source": [
    "## Randomly generate pairs of names and savings"
   ]
  },
  {
   "cell_type": "code",
   "execution_count": 12,
   "metadata": {
    "collapsed": true
   },
   "outputs": [],
   "source": [
    "def exchange(value, key):\n",
    "    rates = {'USA': 1., 'Australia':1.33, 'India':64.76, 'Japan':111.07, \\\n",
    "            'UK':0.77, 'Switzerland':0.97, 'SaudiArabia':3.75, 'China':6.89, \\\n",
    "            'Germany':0.88, 'Russia':56.58}\n",
    "    return value*rates[key]"
   ]
  },
  {
   "cell_type": "code",
   "execution_count": 14,
   "metadata": {
    "collapsed": false,
    "scrolled": false
   },
   "outputs": [],
   "source": [
    "n_sample = 50000\n",
    "\n",
    "max_name = len(names)-1\n",
    "max_family = len(surnames3) - 1\n",
    "max_orig = len(country) - 1\n",
    "\n",
    "with open(\"acquired_custom_data.txt\", \"w\") as file:\n",
    "    for i in range(n_sample):   \n",
    "        \n",
    "        id1 = random.randint(0, max_name)\n",
    "        \n",
    "        rand_fam = norm.rvs(loc=7, scale=5)\n",
    "        id2 = int(min(max_family, max(0, rand_fam)))\n",
    "        \n",
    "        id3 = random.randint(0, max_orig)\n",
    "        \n",
    "        us_save = expon.rvs(scale=1e3, loc=500)\n",
    "        savings = exchange(us_save, country[id3])\n",
    "        \n",
    "        full_name = \"%s %s %.2f %s\\n\" % (names[id1], surnames3[id2], savings, country[id3])\n",
    "        file.write(full_name)"
   ]
  },
  {
   "cell_type": "code",
   "execution_count": null,
   "metadata": {
    "collapsed": true
   },
   "outputs": [],
   "source": []
  }
 ],
 "metadata": {
  "kernelspec": {
   "display_name": "Python 3",
   "language": "python",
   "name": "python3"
  },
  "language_info": {
   "codemirror_mode": {
    "name": "ipython",
    "version": 3
   },
   "file_extension": ".py",
   "mimetype": "text/x-python",
   "name": "python",
   "nbconvert_exporter": "python",
   "pygments_lexer": "ipython3",
   "version": "3.6.0"
  }
 },
 "nbformat": 4,
 "nbformat_minor": 2
}
