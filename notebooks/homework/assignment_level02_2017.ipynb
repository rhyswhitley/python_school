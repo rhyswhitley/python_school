{
 "cells": [
  {
   "cell_type": "markdown",
   "metadata": {},
   "source": [
    "<div style=\"background-color: black; color: white; padding: 15px; margin: 1px\">\n",
    "<font face=\"Calibri\" size=\"4\">\n",
    "<h1 align=\"center\">Python Assignment // Level 2</h1>\n",
    "</font>\n",
    "</div>\n",
    "<br>\n",
    "<br>\n",
    "<div>\n",
    "<center>\n",
    "<font face=\"Calibri\">\n",
    "<p>\n",
    "Imagine that you've somehow obtained unordered customer data for 20 dynastic families from various market competitors. The provenance of the data and how it was collected is irrevelant, although that you need to know is that it was obtained fairly and legally. For your convenience, this data has been supplied to you in the form of a delimited text file, where for each row you have information that pertains to a customer's given name, family name, estimated monthly income, and country of residence.\n",
    "</p>\n",
    "<img src=\"http://i39.tinypic.com/al545k.png\" alt=\"people lining up\" style=\"height:228px;\">\n",
    "<p>\n",
    "Not all customers reside in the same country, such that their estimated net worth will fluctuate with global market exchange rates. As of the time of you receiving this information, exchange rates against the US dollar are as follows.\n",
    "</p>\n",
    "\n",
    "<table>\n",
    "<tr>\n",
    "<th>Country</th>\n",
    "<th>Currency</th>\n",
    "<th>Exchange Rate</th>\n",
    "</tr>\n",
    "<tr>\n",
    "<td><b>USA</b></td>\n",
    "<td><b>USD</b></td>\n",
    "<td><b>1.0</b></td>\n",
    "</tr>\n",
    "<tr>\n",
    "<td>European Union</td>\n",
    "<td>EUR</td>\n",
    "<td>0.88</td>\n",
    "</tr>\n",
    "<tr>\n",
    "<td>Australia</td>\n",
    "<td>AUD</td>\n",
    "<td>1.33</td>\n",
    "</tr>\n",
    "<tr>\n",
    "<td>UK</td>\n",
    "<td>GPB</td>\n",
    "<td>0.77</td>\n",
    "</tr>\n",
    "<tr>\n",
    "<td>Japan</td>\n",
    "<td>JPY</td>\n",
    "<td>111.07</td>\n",
    "</tr>\n",
    "<tr>\n",
    "<td>India</td>\n",
    "<td>INR</td>\n",
    "<td>64.76</td>\n",
    "</tr>\n",
    "<tr>\n",
    "<td>Saudi Arabia</td>\n",
    "<td>SAR</td>\n",
    "<td>3.75</td>\n",
    "</tr>\n",
    "<tr>\n",
    "<td>China</td>\n",
    "<td>CNY</td>\n",
    "<td>6.89</td>\n",
    "</tr>\n",
    "<tr>\n",
    "<td>Russia</td>\n",
    "<td>RUB</td>\n",
    "<td>56.58</td>\n",
    "</tr>\n",
    "<tr>\n",
    "<td>Switzerland</td>\n",
    "<td>CHF</td>\n",
    "<td>97.02</td>\n",
    "</tr>\n",
    "</table>\n",
    "\n",
    "<p>\n",
    "The cost to the business in opening a new account for each new customer is US &#36;100. While the company would ideally prefer to create new business for all customers, to do so <i>en masse</i> for all dynastic families simultaneously would present a prohibitive cost. Additionally, for geopolitical reasons, all family members must be made customers or not at all. For this one time event, the company has budgeted itself US &#36;2.5 million dollars to create these new accounts.\n",
    "<br/>\n",
    "<br/>\n",
    "Consequently, the task of this assignment will be to produce summary information for the company that will outline which families should be acquired as customers to increase the business' <i>net capital</i>. The problem is split over many tasks, culminating in the final design of a module that will meet the needs of the problem outlined above. \n",
    "</p>\n",
    "<hr>\n",
    "<b>Tips:</b> \n",
    "<li> Draw or write out your approach to the solution first before coding straight away. \n",
    "<li> Don't try to solve the entire problem at once, approach the it in bits in pieces.\n",
    "<li> Play, with the tools you have - refer back to the slides.\n",
    "<li> Break the problem into a collection of simple functions that you can play with. \n",
    "<li> Make sure you test the functions on their own. \n",
    "</font>\n",
    "</center>\n",
    "</div>"
   ]
  },
  {
   "cell_type": "code",
   "execution_count": 286,
   "metadata": {
    "collapsed": true
   },
   "outputs": [],
   "source": [
    "def palindrome(name_):\n",
    "    name = name_.lower()\n",
    "    for i in range(len(name)//2):\n",
    "        if name[i] is not name[-abs(i+1)]:\n",
    "            return False\n",
    "    return True"
   ]
  },
  {
   "cell_type": "code",
   "execution_count": 299,
   "metadata": {
    "collapsed": true
   },
   "outputs": [],
   "source": [
    "filename = \"names.txt\""
   ]
  },
  {
   "cell_type": "markdown",
   "metadata": {},
   "source": [
    "```python\n",
    "dataset = []\n",
    "with open(filename, 'r') as file:\n",
    "    for row in file.readlines():\n",
    "        entry = row.strip(\"\\n\").split(\" \")\n",
    "        dataset.append(entry)\n",
    "```"
   ]
  },
  {
   "cell_type": "code",
   "execution_count": 303,
   "metadata": {
    "collapsed": false
   },
   "outputs": [],
   "source": [
    "def file_reader(filename):\n",
    "    \n",
    "    dataset = []\n",
    "    with open(filename, 'r') as file:\n",
    "        for row in file.readlines():\n",
    "            entry = row.strip(\"\\n\").split(\" \")\n",
    "            dataset.append(entry)\n",
    "    return dataset\n",
    "\n",
    "names_db = file_reader(filename)"
   ]
  },
  {
   "cell_type": "code",
   "execution_count": 305,
   "metadata": {
    "collapsed": false
   },
   "outputs": [
    {
     "data": {
      "text/plain": [
       "{'Chen': 3935,\n",
       " 'Dascalu': 3798,\n",
       " 'DiPilla': 3089,\n",
       " 'Jung': 3933,\n",
       " 'Khan': 3800,\n",
       " 'Lee': 5786,\n",
       " 'Lubarsky': 2187,\n",
       " 'Nedelkoski': 2678,\n",
       " 'Pedder': 2171,\n",
       " 'Pillalamarri': 3426,\n",
       " 'Treloar': 3191,\n",
       " 'West': 3509,\n",
       " 'Whitley': 2698,\n",
       " 'Yoon': 5785}"
      ]
     },
     "execution_count": 305,
     "metadata": {},
     "output_type": "execute_result"
    }
   ],
   "source": [
    "def counter(list_):\n",
    "    f_counter = {}\n",
    "\n",
    "    for entry in list_:\n",
    "        key_ = entry[1]\n",
    "        if key_ not in f_counter:\n",
    "            f_counter[key_] = 0\n",
    "        else:\n",
    "            f_counter[key_] += 1\n",
    "            \n",
    "    return f_counter\n",
    "\n",
    "counter(names_db)"
   ]
  },
  {
   "cell_type": "code",
   "execution_count": 282,
   "metadata": {
    "collapsed": false
   },
   "outputs": [
    {
     "data": {
      "text/plain": [
       "{'Fletcher': 2136107.260000002,\n",
       " 'Hohenzollern': 5118240.3999999985,\n",
       " 'Hussain': 1386993.3999999992,\n",
       " 'Jenkins': 3005254.439999998,\n",
       " 'Khan': 888898.4700000004,\n",
       " 'Lawrence': 1354223.6299999992,\n",
       " 'Lawson': 7386434.040000003,\n",
       " 'Marsh': 442538.74000000005,\n",
       " 'Poole': 6958046.040000001,\n",
       " 'Qin': 2726660.58,\n",
       " 'Reichstein': 7061137.679999991,\n",
       " 'Romanov': 6213202.270000007,\n",
       " 'Rothschild': 797617.7599999998,\n",
       " 'Sangama': 3953823.3,\n",
       " 'Shimazu': 473649.24999999994,\n",
       " 'Spencer': 6025539.990000006,\n",
       " 'Tepes': 4112829.5999999894,\n",
       " 'Tokugawa': 852933.2299999999,\n",
       " 'Windsor': 7140086.990000006,\n",
       " 'Zheng': 2004886.8200000026,\n",
       " 'vonCarstein': 5102585.589999991}"
      ]
     },
     "execution_count": 282,
     "metadata": {},
     "output_type": "execute_result"
    }
   ],
   "source": [
    "family_fortune = {}\n",
    "\n",
    "for name in names_db:\n",
    "   \n",
    "    family = name[1]\n",
    "    savings = float(name[2])\n",
    "    if family not in family_fortune:\n",
    "        family_fortune[family] = savings  \n",
    "    else:\n",
    "        family_fortune[family] += savings \n",
    "        \n",
    "family_fortune"
   ]
  },
  {
   "cell_type": "code",
   "execution_count": 283,
   "metadata": {
    "collapsed": false
   },
   "outputs": [
    {
     "data": {
      "text/plain": [
       "{'Fletcher': [1377, 2136107.260000002],\n",
       " 'Hohenzollern': [3396, 5118240.3999999985],\n",
       " 'Hussain': [904, 1386993.3999999992],\n",
       " 'Jenkins': [1982, 3005254.439999998],\n",
       " 'Khan': [590, 888898.4700000004],\n",
       " 'Lawrence': [886, 1354223.6299999992],\n",
       " 'Lawson': [4815, 7386434.040000003],\n",
       " 'Marsh': [306, 442538.74000000005],\n",
       " 'Poole': [4651, 6958046.040000001],\n",
       " 'Qin': [1851, 2726660.58],\n",
       " 'Reichstein': [4738, 7061137.679999991],\n",
       " 'Romanov': [4132, 6213202.270000007],\n",
       " 'Rothschild': [535, 797617.7599999998],\n",
       " 'Sangama': [2611, 3953823.3],\n",
       " 'Shimazu': [320, 473649.24999999994],\n",
       " 'Spencer': [4032, 6025539.990000006],\n",
       " 'Tepes': [2707, 4112829.5999999894],\n",
       " 'Tokugawa': [569, 852933.2299999999],\n",
       " 'Windsor': [4806, 7140086.990000006],\n",
       " 'Zheng': [1351, 2004886.8200000026],\n",
       " 'vonCarstein': [3420, 5102585.589999991]}"
      ]
     },
     "execution_count": 283,
     "metadata": {},
     "output_type": "execute_result"
    }
   ],
   "source": [
    "def data_counter(list_):\n",
    "    \n",
    "    data_table = {}\n",
    "\n",
    "    for entry in list_:\n",
    "\n",
    "        key = entry[1]\n",
    "        # make sure it's a number !\n",
    "        value = float(entry[2])\n",
    "        if key not in data_table:\n",
    "            data_table[key] = [0, value] \n",
    "        else:\n",
    "            data_table[key][0] += 1 \n",
    "            data_table[key][1] += value \n",
    "\n",
    "    return data_table\n",
    "\n",
    "data_counter(names_db)"
   ]
  },
  {
   "cell_type": "code",
   "execution_count": 258,
   "metadata": {
    "collapsed": true
   },
   "outputs": [],
   "source": [
    "class Portfolio:\n",
    "    \n",
    "    def __init__(self, name):\n",
    "        self.name = name \n",
    "        self.raw = None\n",
    "        self.data_table = None\n",
    "        \n",
    "    def file_reader(self, filename):\n",
    "\n",
    "        self.raw = []\n",
    "        \n",
    "        with open(filename, 'r') as file:\n",
    "            for row in file.readlines():\n",
    "                entry = row.strip(\"\\n\").split(\" \")\n",
    "                self.raw.append(entry)\n",
    "                \n",
    "        return self       \n",
    "    \n",
    "    def data_counter(self):\n",
    "    \n",
    "        self.data_table = {}\n",
    "\n",
    "        for entry in self.raw:\n",
    "\n",
    "            key = entry[1]\n",
    "            # make sure it's a number !\n",
    "            value = float(entry[2])\n",
    "            if key not in self.data_table:\n",
    "                self.data_table[key] = [0, value] \n",
    "            else:\n",
    "                self.data_table[key][0] += 1 \n",
    "                self.data_table[key][1] += value \n",
    "\n",
    "        return self\n",
    "        \n",
    "    def __repr__(self):\n",
    "        if self.data_table is not None:\n",
    "            sort_ = sorted(self.data_table, key=self.data_table.get)\n",
    "            out = []\n",
    "            for key_ in sort_:\n",
    "                out.append(\"%12s: %5i %.2f\" % (key_, \\\n",
    "                                               self.data_table[key_][0], \\\n",
    "                                               self.data_table[key_][1]))\n",
    "            return \"\\n\".join(out) \n",
    "        else:\n",
    "            return \"Nothing here!\" "
   ]
  },
  {
   "cell_type": "code",
   "execution_count": 284,
   "metadata": {
    "collapsed": false
   },
   "outputs": [
    {
     "name": "stdout",
     "output_type": "stream",
     "text": [
      "       Marsh:   306 442538.74\n",
      "     Shimazu:   320 473649.25\n",
      "  Rothschild:   535 797617.76\n",
      "    Tokugawa:   569 852933.23\n",
      "        Khan:   590 888898.47\n",
      "    Lawrence:   886 1354223.63\n",
      "     Hussain:   904 1386993.40\n",
      "       Zheng:  1351 2004886.82\n",
      "    Fletcher:  1377 2136107.26\n",
      "         Qin:  1851 2726660.58\n",
      "     Jenkins:  1982 3005254.44\n",
      "     Sangama:  2611 3953823.30\n",
      "       Tepes:  2707 4112829.60\n",
      "Hohenzollern:  3396 5118240.40\n",
      " vonCarstein:  3420 5102585.59\n",
      "     Spencer:  4032 6025539.99\n",
      "     Romanov:  4132 6213202.27\n",
      "       Poole:  4651 6958046.04\n",
      "  Reichstein:  4738 7061137.68\n",
      "     Windsor:  4806 7140086.99\n",
      "      Lawson:  4815 7386434.04\n"
     ]
    }
   ],
   "source": [
    "p1 = Portfolio('test').file_reader(\"names.txt\").data_counter()\n",
    "print(p1)"
   ]
  },
  {
   "cell_type": "code",
   "execution_count": 285,
   "metadata": {
    "collapsed": false
   },
   "outputs": [
    {
     "data": {
      "text/plain": [
       "2500000.0"
      ]
     },
     "execution_count": 285,
     "metadata": {},
     "output_type": "execute_result"
    }
   ],
   "source": [
    "25e3*100"
   ]
  },
  {
   "cell_type": "code",
   "execution_count": null,
   "metadata": {
    "collapsed": true
   },
   "outputs": [],
   "source": []
  }
 ],
 "metadata": {
  "kernelspec": {
   "display_name": "Python 3",
   "language": "python",
   "name": "python3"
  },
  "language_info": {
   "codemirror_mode": {
    "name": "ipython",
    "version": 3
   },
   "file_extension": ".py",
   "mimetype": "text/x-python",
   "name": "python",
   "nbconvert_exporter": "python",
   "pygments_lexer": "ipython3",
   "version": "3.6.0"
  }
 },
 "nbformat": 4,
 "nbformat_minor": 2
}
