{
 "cells": [
  {
   "cell_type": "markdown",
   "metadata": {},
   "source": [
    "<div style=\"background-color: black; color: white; padding: 15px; margin: 1px\">\n",
    "<font face=\"Calibri\" size=\"4\">\n",
    "<h1 align=\"center\">Python Assignment // Level 2</h1>\n",
    "</font>\n",
    "</div>\n",
    "<br>\n",
    "<br>\n",
    "<div>\n",
    "<center>\n",
    "<font face=\"Calibri\">\n",
    "<p>\n",
    "Imagine that you've somehow obtained unordered customer data for 14 <i>very</i> important, dynastic families from various market competitors. The provenance of the data and how it was collected is irrevelant, although that you need to know is that it was obtained fairly and legally. For your convenience, this data has been supplied to you in the form of a delimited text file, where for each row you have information that pertains to a customer's given name, family name, estimated monthly income, and country of residence.\n",
    "</p>\n",
    "<img src=\"http://i39.tinypic.com/al545k.png\" alt=\"people lining up\" style=\"height:228px;\">\n",
    "<p>\n",
    "Not all customers reside in the same country, such that their estimated net worth will fluctuate with global market exchange rates. As of the time of you receiving this information, exchange rates against the US dollar are as follows.\n",
    "</p>\n",
    "\n",
    "<table>\n",
    "<tr>\n",
    "<th>Country</th>\n",
    "<th>Currency</th>\n",
    "<th>Exchange Rate</th>\n",
    "</tr>\n",
    "<tr>\n",
    "<td><b>USA</b></td>\n",
    "<td><b>USD</b></td>\n",
    "<td><b>1.0</b></td>\n",
    "</tr>\n",
    "<tr>\n",
    "<td>European Union</td>\n",
    "<td>EUR</td>\n",
    "<td>0.88</td>\n",
    "</tr>\n",
    "<tr>\n",
    "<td>Australia</td>\n",
    "<td>AUD</td>\n",
    "<td>1.33</td>\n",
    "</tr>\n",
    "<tr>\n",
    "<td>UK</td>\n",
    "<td>GPB</td>\n",
    "<td>0.77</td>\n",
    "</tr>\n",
    "<tr>\n",
    "<td>Japan</td>\n",
    "<td>JPY</td>\n",
    "<td>111.07</td>\n",
    "</tr>\n",
    "<tr>\n",
    "<td>India</td>\n",
    "<td>INR</td>\n",
    "<td>64.76</td>\n",
    "</tr>\n",
    "<tr>\n",
    "<td>Saudi Arabia</td>\n",
    "<td>SAR</td>\n",
    "<td>3.75</td>\n",
    "</tr>\n",
    "<tr>\n",
    "<td>China</td>\n",
    "<td>CNY</td>\n",
    "<td>6.89</td>\n",
    "</tr>\n",
    "<tr>\n",
    "<td>Russia</td>\n",
    "<td>RUB</td>\n",
    "<td>56.58</td>\n",
    "</tr>\n",
    "<tr>\n",
    "<td>Switzerland</td>\n",
    "<td>CHF</td>\n",
    "<td>0.97</td>\n",
    "</tr>\n",
    "</table>\n",
    "\n",
    "<p>\n",
    "The cost to the business in opening a new account for each new customer is US &#36;100. While the company would ideally prefer to create new business for all customers, to do so <i>en masse</i> for all dynastic families simultaneously would present a prohibitive cost. Additionally, for geopolitical reasons, all family members must be made customers or not at all. For this one time event, the company has budgeted itself US &#36;2.5 million dollars to create these new accounts.\n",
    "<br/>\n",
    "<br/>\n",
    "Consequently, the task of this assignment will be to produce summary information for the company that will outline which families should be acquired as customers to increase the business' <i>net capital</i>. The problem is split over many tasks, culminating in the final design of a module that will meet the needs of the problem outlined above. \n",
    "</p>\n",
    "<hr>\n",
    "<b>Tips:</b> \n",
    "<li> Draw or write out your approach to the solution first before coding straight away. \n",
    "<li> Don't try to solve the entire problem at once, approach the it in bits in pieces.\n",
    "<li> Play, with the tools you have - refer back to the slides.\n",
    "<li> Break the problem into a collection of simple functions that you can play with. \n",
    "<li> Make sure you test the functions on their own. \n",
    "<li> <b>Read your error messages!</b> They are there to help you figure out what went wrong.\n",
    "</font>\n",
    "</center>\n",
    "</div>"
   ]
  },
  {
   "cell_type": "markdown",
   "metadata": {},
   "source": [
    "## Part 1: Import data\n",
    "The dataset for the acquired customer information is labelled as: <b>acquired_custom_data.txt</b>, and you want to move this to the same folder as your python notebook. The next step will be to import this data into your notebook so you can use it. Because you haven't done this before, I have supplied the code below.\n",
    "\n",
    "```python\n",
    "# open a connection to the file - 'r' means 'read'\n",
    "file = open(\"filename\", \"r\"):\n",
    "\n",
    "# loop through each line in the text file\n",
    "for row in file.readlines():\n",
    "    # because each line is a string, you will need to remove the line break \n",
    "    # and split it on the spaces that occur between information \n",
    "    entry = row.strip(\"\\n\").split(\" \")\n",
    "    \n",
    "# close the connection to the file\n",
    "file.close()\n",
    "```\n",
    "\n",
    "Use the syntax above to import the dataset into a <b>list</b>. You will need to add some of your own code to do this. Once that works, I want you to turn this into a function, such that:\n",
    "\\begin{equation}\n",
    "filename \\text{<string>} \\rightarrow f \\rightarrow dataset \\text{<list or dict>}\n",
    "\\end{equation}"
   ]
  },
  {
   "cell_type": "code",
   "execution_count": 63,
   "metadata": {
    "collapsed": false
   },
   "outputs": [],
   "source": [
    "filename = \"acquired_custom_data.txt\"\n",
    "\n",
    "def file_reader(filename):\n",
    "    \n",
    "    dataset = []\n",
    "    with open(filename, 'r') as file:\n",
    "        for row in file.readlines():\n",
    "            entry = row.strip(\"\\n\").split(\" \")\n",
    "            dataset.append(entry)\n",
    "    return dataset\n",
    "\n",
    "names_db = file_reader(filename)"
   ]
  },
  {
   "cell_type": "markdown",
   "metadata": {},
   "source": [
    "## Part 2: Standardise data to US dollars\n",
    "Next, you will need to convert the savings for each potential customer from the base currency to US dollars. First, create a function to do this, using the information supplied in the table from the problem outline (__hint__: use a <code>dict</code>, but make sure the keys match the values in the data). Demonstrate that your functions works, i.e. supply an input to show an output. "
   ]
  },
  {
   "cell_type": "code",
   "execution_count": null,
   "metadata": {
    "collapsed": true
   },
   "outputs": [],
   "source": []
  },
  {
   "cell_type": "markdown",
   "metadata": {},
   "source": [
    "Now, use this function to convert all potential customer savings in your dataset. You should now have an extra _entry_ that describes the savings standardised to $US. You don't necessarily need to modify your dataset to do this, rather create a new version that has the family name and standardised savings. "
   ]
  },
  {
   "cell_type": "code",
   "execution_count": 68,
   "metadata": {
    "collapsed": false
   },
   "outputs": [],
   "source": [
    "def exchange(value, key):\n",
    "    rates = {'USA': 1., 'Australia':1.33, 'India':64.76, 'Japan':111.07, \\\n",
    "            'UK':0.77, 'Switzerland':0.97, 'SaudiArabia':3.75, 'China':6.89, \\\n",
    "            'Germany':0.88, 'Russia':56.58}\n",
    "    return value*1/rates[key]\n",
    "\n",
    "new_dataset = []\n",
    "\n",
    "for entry in names_db:\n",
    "    saves = float(entry[-2])\n",
    "    origin = entry[-1]\n",
    "    us_saves = exchange(saves, origin)\n",
    "    new_dataset.append({'family': entry[1], 'savings': us_saves})"
   ]
  },
  {
   "cell_type": "markdown",
   "metadata": {},
   "source": [
    "## Part 3: Summarise the data by family name\n",
    "\n",
    "Now that you have standardised savings data in US$, you are now required to create summary information that expresses the total value of savings and number of family members for each family dynasty. Create a function to do this, such that it returns the summarised information.\n",
    "\n",
    "For this result to be helpful, make sure that the families are sorted by order of total net worth. Just be aware that your final result shouldn't be a dictionary per say, as this will not be naturally sorted. Feel free to search for solutions to this on Google and Stack Exchange."
   ]
  },
  {
   "cell_type": "code",
   "execution_count": 98,
   "metadata": {
    "collapsed": false
   },
   "outputs": [
    {
     "data": {
      "text/plain": [
       "[['Lee', [5784, 8619618.217916884]],\n",
       " ['Yoon', [5694, 8491365.311665662]],\n",
       " ['Jung', [4021, 6090806.20193716]],\n",
       " ['Chen', [3941, 5904309.416021526]],\n",
       " ['Khan', [3819, 5786822.956568369]],\n",
       " ['Dascalu', [3757, 5713714.156386598]],\n",
       " ['West', [3511, 5335137.189885458]],\n",
       " ['Pillalamarri', [3418, 5080086.193340345]],\n",
       " ['Treloar', [3167, 4690787.1784591945]],\n",
       " ['DiPilla', [3120, 4604715.624215293]],\n",
       " ['Whitley', [2703, 4047325.9628931587]],\n",
       " ['Nedelkoski', [2696, 3943963.3122955943]],\n",
       " ['Lubarsky', [2235, 3411597.1783553525]],\n",
       " ['Pedder', [2120, 3160419.672817113]]]"
      ]
     },
     "execution_count": 98,
     "metadata": {},
     "output_type": "execute_result"
    }
   ],
   "source": [
    "def sort_families(dt):\n",
    "    sort_ = sorted(dt, reverse=True, key=dt.__getitem__)\n",
    "    return [[s,dt[s]] for s in sort_]\n",
    "\n",
    "def data_counter(list_):\n",
    "    \n",
    "    data_table = {}\n",
    "    \n",
    "    for entry in list_:\n",
    "        key = entry['family']\n",
    "        value = entry['savings']\n",
    "        if key not in data_table:\n",
    "            data_table[key] = [0, value] \n",
    "        else:\n",
    "            data_table[key][0] += 1 \n",
    "            data_table[key][1] += value \n",
    "\n",
    "    return sort_families(data_table)\n",
    "\n",
    "summary = data_counter(new_dataset)\n",
    "summary"
   ]
  },
  {
   "cell_type": "markdown",
   "metadata": {},
   "source": [
    "## Part 4: Select richest families \n",
    "Now that we have ordered information on all the families and their respective net worth, select those that we will make accounts for within the $2.5 million dollar budget constraint. "
   ]
  },
  {
   "cell_type": "code",
   "execution_count": 103,
   "metadata": {
    "collapsed": false
   },
   "outputs": [
    {
     "data": {
      "text/plain": [
       "[('Lee', 8619618.217916884),\n",
       " ('Yoon', 8491365.311665662),\n",
       " ('Jung', 6090806.20193716),\n",
       " ('Chen', 5904309.416021526),\n",
       " ('Khan', 5786822.956568369)]"
      ]
     },
     "execution_count": 103,
     "metadata": {},
     "output_type": "execute_result"
    }
   ],
   "source": [
    "count = 0\n",
    "accepted = []\n",
    "for key, value in summary:\n",
    "    n = value[0]\n",
    "    savings = value[1]\n",
    "    count += n\n",
    "    if count*100 <= 2.5e6:\n",
    "        accepted.append((key, savings))\n",
    "accepted"
   ]
  },
  {
   "cell_type": "markdown",
   "metadata": {},
   "source": [
    "## Part 5: Create a module\n",
    "Finally, put all of your above coded solutions into a self contained module that can be imported to any notebook or python script. Then demonstrate (preferably in a separate notebook) the application of your module in practice, such that you could potentially send the module to anyone else in the company to use."
   ]
  },
  {
   "cell_type": "code",
   "execution_count": 2,
   "metadata": {
    "collapsed": true
   },
   "outputs": [],
   "source": [
    "class Portfolio:\n",
    "    \n",
    "    def __init__(self, name):\n",
    "        self.name = name \n",
    "        self.raw = None\n",
    "        self.data_table = None\n",
    "        \n",
    "    def file_reader(self, filename):\n",
    "\n",
    "        self.raw = []\n",
    "        \n",
    "        with open(filename, 'r') as file:\n",
    "            for row in file.readlines():\n",
    "                entry = row.strip(\"\\n\").split(\" \")\n",
    "                self.raw.append(entry)\n",
    "                \n",
    "        return self       \n",
    "    \n",
    "    def data_counter(self):\n",
    "    \n",
    "        self.data_table = {}\n",
    "\n",
    "        for entry in self.raw:\n",
    "\n",
    "            key = entry[1]\n",
    "            # make sure it's a number !\n",
    "            value = float(entry[2])\n",
    "            if key not in self.data_table:\n",
    "                self.data_table[key] = [0, value] \n",
    "            else:\n",
    "                self.data_table[key][0] += 1 \n",
    "                self.data_table[key][1] += value \n",
    "\n",
    "        return self\n",
    "        \n",
    "    def __repr__(self):\n",
    "        if self.data_table is not None:\n",
    "            sort_ = sorted(self.data_table, key=self.data_table.get)\n",
    "            out = []\n",
    "            for key_ in sort_:\n",
    "                out.append(\"%12s: %5i %.2f\" % (key_, \\\n",
    "                                               self.data_table[key_][0], \\\n",
    "                                               self.data_table[key_][1]))\n",
    "            return \"\\n\".join(out) \n",
    "        else:\n",
    "            return \"Nothing here!\" "
   ]
  },
  {
   "cell_type": "code",
   "execution_count": 3,
   "metadata": {
    "collapsed": false
   },
   "outputs": [
    {
     "name": "stdout",
     "output_type": "stream",
     "text": [
      "      Pedder:  2171 3366342.75\n",
      "    Lubarsky:  2187 3307517.39\n",
      "  Nedelkoski:  2678 4016500.83\n",
      "     Whitley:  2698 4022168.82\n",
      "     DiPilla:  3089 4677282.47\n",
      "     Treloar:  3191 4892268.87\n",
      "Pillalamarri:  3426 5177199.78\n",
      "        West:  3509 5316818.63\n",
      "     Dascalu:  3798 5784515.75\n",
      "        Khan:  3800 5753913.93\n",
      "        Jung:  3933 5902169.72\n",
      "        Chen:  3935 5943168.29\n",
      "        Yoon:  5785 8520302.33\n",
      "         Lee:  5786 8669813.05\n"
     ]
    }
   ],
   "source": [
    "p1 = Portfolio('test').file_reader(\"names.txt\").data_counter()\n",
    "print(p1)"
   ]
  },
  {
   "cell_type": "code",
   "execution_count": 8,
   "metadata": {
    "collapsed": false
   },
   "outputs": [
    {
     "name": "stdout",
     "output_type": "stream",
     "text": [
      "75.34998260999998\n"
     ]
    }
   ],
   "source": [
    "ans = 0\n",
    "for key, value in p1.data_table.items():\n",
    "    ans += value[1]\n",
    "print(ans/1e6)"
   ]
  },
  {
   "cell_type": "code",
   "execution_count": null,
   "metadata": {
    "collapsed": true
   },
   "outputs": [],
   "source": []
  },
  {
   "cell_type": "raw",
   "metadata": {
    "collapsed": true
   },
   "source": [
    "def palindrome(name_):\n",
    "    name = name_.lower()\n",
    "    for i in range(len(name)//2):\n",
    "        if name[i] is not name[-abs(i+1)]:\n",
    "            return False\n",
    "    return True"
   ]
  }
 ],
 "metadata": {
  "kernelspec": {
   "display_name": "Python 3",
   "language": "python",
   "name": "python3"
  },
  "language_info": {
   "codemirror_mode": {
    "name": "ipython",
    "version": 3
   },
   "file_extension": ".py",
   "mimetype": "text/x-python",
   "name": "python",
   "nbconvert_exporter": "python",
   "pygments_lexer": "ipython3",
   "version": "3.6.0"
  }
 },
 "nbformat": 4,
 "nbformat_minor": 2
}
