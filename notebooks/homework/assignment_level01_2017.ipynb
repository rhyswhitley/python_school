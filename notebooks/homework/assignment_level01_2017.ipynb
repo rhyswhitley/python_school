{
 "cells": [
  {
   "cell_type": "markdown",
   "metadata": {},
   "source": [
    "<div style=\"background-color: black; color: white; padding: 15px; margin: 1px\">\n",
    "<center>\n",
    "<font face=\"Calibri\" size=\"4\">\n",
    "<h1>Python Assignment // Level 1</h1>\n",
    "<h3>Part 1</h3>\n",
    "</center>\n",
    "</font>\n",
    "</div>\n",
    "<br>\n",
    "<br>\n",
    "<div>\n",
    "<center>\n",
    "<font face=\"Calibri\">\n",
    "<p>\n",
    "Consider a long line of 200 people who have qued to make a withdrawal of their savings from an ATM of some arbitrary bank. Each person in the line is between the ages of 15 and 90 years old. No person in this line shares the same age; that is they are all unique and we consider fractional years (e.g. 40.13 years old). Additionally, a person's age has no relation to their position in the line; it is completely random. \n",
    "<br><br>\n",
    "The bank finds out one of these customers is about to hack the ATM and steal the savings for all remaining customers standing behind them, as they attempt to make a withdrawal. The bank can prevent the hack by shutting down their system at any time, but thereafter the ATM will be inaccessible for the remainder of the day. However, the bank has received a tip-off that this person is approximately between 40 to 45 years of age. Let's also assume the bank nefariously has GPS tracking on all of its customers, and has therefore created a small database describing the initials, age, gender and current savings ($) of each of these 200 customers, as they have appeared in the line. Because it's only an <i>approximate</i> age (or range), there could be more than one possible suspect, so the bank needs to decide on when to close their system before the attack happens.  \n",
    "<br>\n",
    "Your task below is to therefore use Python to find the position(s) of the person(s) that fall within the <b>40-45</b> age range. You must then determine, which of these suspects the bank needs to close its systems on in order to prevent the <i>least amount of financial damage</i> and calculate the overall potential damage that has been avoided by doing so.\n",
    "</p>\n",
    "<img src=\"http://h24-original.s3.amazonaws.com/222886/20501040-jCuHI.jpg\" alt=\"people lining up\" style=\"height:228px;\">\n",
    "\n",
    "<hr>\n",
    "<b>Tips:</b> \n",
    "<li> Draw or write out your approach to the solution first before coding straight away. \n",
    "<li> Don't try to solve the entire problem at once, approach the it in bits in pieces (e.g. set up your looping first)\n",
    "<li> Play, with the tools you have - refer back to the slides\n",
    "<li> Play with the loops - make sure you can iterate through the list, print the value at an index, etc. \n",
    "<li> Play with the dictionary - see if you can access the data using the keys.\n",
    "<li> Play with the lists - make sure you know how to index.\n",
    "</font>\n",
    "</center>\n",
    "</div>"
   ]
  },
  {
   "cell_type": "markdown",
   "metadata": {},
   "source": [
    "## Creating the dataset\n",
    "The code in the cell below is executed to create the dictionary you will work with (i.e. the bank's database described in the problem above). Copy and paste the code below into your notebook cell to create the dataset for the problem.\n",
    "\n",
    "```python\n",
    "import random\n",
    "import string\n",
    "\n",
    "# set the number of people\n",
    "num_people = 200\n",
    "\n",
    "# randomly draw unqiue ages \n",
    "ages = [x/10 for x in random.sample(range(150, 900), num_people)]\n",
    "\n",
    "# randomly assign gender\n",
    "genbin = [random.randint(0, 1) for x in range(num_people)]\n",
    "# convert from  binary to category letter \n",
    "gender = ['Male' if x == 1 else 'Female' for x in genbin]\n",
    "\n",
    "# randomly assign initials\n",
    "initials = [random.choice(string.ascii_uppercase) + random.choice(string.ascii_uppercase) \\\n",
    "            for x in range(num_people)]\n",
    "\n",
    "# randomly assign savings ($)\n",
    "savings = [random.randint(20, 2e3) for x in range(num_people)]\n",
    "\n",
    "# transform this into a dictionary\n",
    "bank_database = {'initials':initials, 'gender':gender, 'age':ages, 'savings':savings}\n",
    "```\n",
    "\n",
    "The dictionary's data is purposely random so that everyone will have a unique answer. I'm more interested in the method you are using than the answer you get."
   ]
  },
  {
   "cell_type": "markdown",
   "metadata": {},
   "source": [
    "## Answer below:\n",
    "\n",
    "Remember to use as many cells as you need (they're practically infinite in number) to understand the working out of your solution. You can also annotate your work by writing text in a cell and changing the cell type to `Markdown`."
   ]
  },
  {
   "cell_type": "code",
   "execution_count": null,
   "metadata": {
    "collapsed": true
   },
   "outputs": [],
   "source": []
  },
  {
   "cell_type": "markdown",
   "metadata": {},
   "source": [
    "<br />\n",
    "<br />\n",
    "<br />\n",
    "<br />\n",
    "\n",
    "<div style=\"background-color: black; color: white; padding: 15px; margin: 1px\">\n",
    "<center>\n",
    "<font face=\"Calibri\">\n",
    "<h1>Part 2:</h1>\n",
    "</div>\n",
    "<p>\n",
    "Consider now that the bank is insured against a loss of $50,000, such that it can allow a number of customers to lose their savings, and will be reimbursed almost immediately. Copy and modify the algorithm you've used above to determine the new minimum loss position for the suspect standing in line. \n",
    "</p>\n",
    "</font>\n",
    "</center>\n",
    "</div>\n",
    "\n",
    "## Answer below:"
   ]
  },
  {
   "cell_type": "code",
   "execution_count": null,
   "metadata": {
    "collapsed": true
   },
   "outputs": [],
   "source": []
  }
 ],
 "metadata": {
  "anaconda-cloud": {},
  "kernelspec": {
   "display_name": "Python [Root]",
   "language": "python",
   "name": "Python [Root]"
  },
  "language_info": {
   "codemirror_mode": {
    "name": "ipython",
    "version": 3
   },
   "file_extension": ".py",
   "mimetype": "text/x-python",
   "name": "python",
   "nbconvert_exporter": "python",
   "pygments_lexer": "ipython3",
   "version": "3.5.2"
  }
 },
 "nbformat": 4,
 "nbformat_minor": 0
}
