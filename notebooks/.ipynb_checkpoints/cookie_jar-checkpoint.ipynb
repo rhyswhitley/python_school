{
 "cells": [
  {
   "cell_type": "markdown",
   "metadata": {
    "ExecuteTime": {
     "end_time": "2017-02-22T08:49:04.989116",
     "start_time": "2017-02-22T08:49:04.987116"
    }
   },
   "source": [
    "<center><h1><font face=\"cooper\" size=\"10\">Programming the Cookie Monster</font></h1></center>\n",
    "<br />\n",
    "<img src=\"http://media0.giphy.com/media/EKUvB9uFnm2Xe/giphy.gif\" alt=\"cookie monster\" />"
   ]
  },
  {
   "cell_type": "markdown",
   "metadata": {},
   "source": [
    "## Create a jar that holds a random number of cookies"
   ]
  },
  {
   "cell_type": "code",
   "execution_count": 4,
   "metadata": {
    "ExecuteTime": {
     "end_time": "2017-02-22T16:26:19.556772",
     "start_time": "2017-02-22T16:26:19.545772"
    },
    "collapsed": false
   },
   "outputs": [
    {
     "name": "stdout",
     "output_type": "stream",
     "text": [
      "Cookies to start with 61\n"
     ]
    }
   ],
   "source": [
    "import random\n",
    "\n",
    "# random number of cookies in a jar\n",
    "cookie_jar = [random.randint(0, 1) for i in range(100)]\n",
    "\n",
    "print(\"Cookies to start with %d\" % sum(cookie_jar))"
   ]
  },
  {
   "cell_type": "markdown",
   "metadata": {},
   "source": [
    "## Now eat the cookies"
   ]
  },
  {
   "cell_type": "code",
   "execution_count": 5,
   "metadata": {
    "ExecuteTime": {
     "end_time": "2017-02-22T16:26:25.031372",
     "start_time": "2017-02-22T16:26:25.029372"
    },
    "collapsed": false
   },
   "outputs": [
    {
     "name": "stdout",
     "output_type": "stream",
     "text": [
      "COOKIES!!!!\n",
      "NOM NOM NOM NOM NOM NOM NOM\n",
      "\n",
      "Ugh! Me full!!\n",
      "Cookies left 11\n"
     ]
    }
   ],
   "source": [
    "hungry = True\n",
    "consumed = 0\n",
    "stomach_size = 50\n",
    "\n",
    "print(\"COOKIES!!!!\\nNOM NOM NOM NOM NOM NOM NOM\")\n",
    "\n",
    "while hungry:\n",
    "    \n",
    "    if cookie_jar != []:\n",
    "        consumed += cookie_jar.pop()\n",
    "        \n",
    "        if consumed >= stomach_size:\n",
    "            print(\"\\nUgh! Me full!!\")\n",
    "            hungry = False\n",
    "    else:\n",
    "        print(\"\\nUgh! Me still hungry!!\")\n",
    "        break\n",
    "    \n",
    "print(\"Cookies left %d\" % sum(cookie_jar))"
   ]
  },
  {
   "cell_type": "code",
   "execution_count": null,
   "metadata": {
    "collapsed": true
   },
   "outputs": [],
   "source": []
  }
 ],
 "metadata": {
  "anaconda-cloud": {},
  "kernelspec": {
   "display_name": "Python [Root]",
   "language": "python",
   "name": "Python [Root]"
  },
  "language_info": {
   "codemirror_mode": {
    "name": "ipython",
    "version": 3
   },
   "file_extension": ".py",
   "mimetype": "text/x-python",
   "name": "python",
   "nbconvert_exporter": "python",
   "pygments_lexer": "ipython3",
   "version": "3.5.2"
  }
 },
 "nbformat": 4,
 "nbformat_minor": 0
}
